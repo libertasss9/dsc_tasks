{
 "cells": [
  {
   "cell_type": "code",
   "execution_count": 5,
   "metadata": {},
   "outputs": [],
   "source": [
    "def sum_prod (min, max):\n",
    "    #creating lists of all possibles pairs for 1<a,b<100 and prods and sums that can be produced by them\n",
    "    all_a_b_pairs = [(i, j) for i in range(min, max+1) for j in range(i + 1, max+1)]\n",
    "    all_prods = [a*b for a,b in all_a_b_pairs]\n",
    "    all_sums = [a+b for a,b in all_a_b_pairs]\n",
    "\n",
    "    #check two statements at once\n",
    "    #so if we have product that can be produced by only one valid pair \n",
    "    #(in this case Prod would know the numbers, but he doesn't)\n",
    "    #such sum is no valid for us \n",
    "    valid_sums = []\n",
    "    for s in all_sums:\n",
    "        valid = True  \n",
    "        for x, y in all_a_b_pairs:\n",
    "            if x + y == s and all_prods.count(x * y) <= 1:\n",
    "                valid = False\n",
    "                break  \n",
    "        if valid and s not in valid_sums:\n",
    "            valid_sums.append(s)\n",
    "\n",
    "    #filtering all possible pairs, so it gives us ones that can produce sums after second statement\n",
    "    valid_pairs = [] \n",
    "    for a, b in all_a_b_pairs:\n",
    "        if a + b in valid_sums:\n",
    "            valid_pairs.append((a, b))    \n",
    "\n",
    "    #forming list of possible products that remained\n",
    "    remaining_prods = [a*b for a,b in valid_pairs]\n",
    "    #searching in remaining products for ones that can be produced by only one pair of a and b\n",
    "    prefinal_pairs=[]\n",
    "    for a,b in valid_pairs:\n",
    "        if remaining_prods.count(a*b)==1:\n",
    "            prefinal_pairs.append((a,b))\n",
    "\n",
    "    remaining_sums = [a+b for a,b in prefinal_pairs]\n",
    "\n",
    "    #searching for sums that can be produces by only one pair of a and b\n",
    "    final_pairs = []\n",
    "    for a,b in prefinal_pairs:\n",
    "        if remaining_sums.count(a+b)==1:\n",
    "            final_pairs.append((a,b))\n",
    "\n",
    "    return final_pairs        "
   ]
  },
  {
   "cell_type": "code",
   "execution_count": 6,
   "metadata": {},
   "outputs": [
    {
     "name": "stdout",
     "output_type": "stream",
     "text": [
      "[(4, 13)]\n"
     ]
    }
   ],
   "source": [
    "print(sum_prod(2,99))"
   ]
  }
 ],
 "metadata": {
  "kernelspec": {
   "display_name": "Python 3",
   "language": "python",
   "name": "python3"
  },
  "language_info": {
   "codemirror_mode": {
    "name": "ipython",
    "version": 3
   },
   "file_extension": ".py",
   "mimetype": "text/x-python",
   "name": "python",
   "nbconvert_exporter": "python",
   "pygments_lexer": "ipython3",
   "version": "3.13.2"
  }
 },
 "nbformat": 4,
 "nbformat_minor": 2
}
